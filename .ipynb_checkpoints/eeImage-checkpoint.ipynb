{
 "cells": [
  {
   "cell_type": "code",
   "execution_count": null,
   "id": "cc854b0d",
   "metadata": {},
   "outputs": [],
   "source": [
    "import ee\n",
    "import geopandas as gpd\n",
    "import pandas as pd\n",
    "import pandas as pd\n",
    "import json\n",
    "import configparser\n",
    "import time"
   ]
  },
  {
   "cell_type": "code",
   "execution_count": null,
   "id": "f446c041",
   "metadata": {},
   "outputs": [],
   "source": [
    "ee.Authenticate()\n",
    "ee.Initialize()"
   ]
  },
  {
   "cell_type": "code",
   "execution_count": null,
   "id": "11fa617a",
   "metadata": {},
   "outputs": [],
   "source": [
    "config = configparser.ConfigParser()\n",
    "config.read(r\"./config.ini\")\n",
    "start_yy = int(config.get(\"myvars\", \"start_yy\"))\n",
    "end_yy = int(config.get(\"myvars\", \"end_yy\"))+1\n",
    "start_mm = int(config.get(\"myvars\", \"start_mm\"))\n",
    "end_mm = int(config.get(\"myvars\", \"end_mm\"))+1\n",
    "\n",
    "ee_collection = config.get(\"myvars\", \"ee_col\")\n",
    "path = config.get(\"myvars\", \"path\")\n",
    "band_ee = config.get(\"myvars\", \"band_ee\")\n",
    "\n",
    "folder = config.get(\"myvars\", \"folder\")"
   ]
  },
  {
   "cell_type": "code",
   "execution_count": null,
   "id": "22063a2c",
   "metadata": {},
   "outputs": [],
   "source": [
    "data = ee.ImageCollection(ee_collection);\n",
    "\n",
    "data_band = data.select(band_ee)\n",
    "\n",
    "for yy in range(start_yy,end_yy):\n",
    "    yy_count = 1\n",
    "    \n",
    "    for mm in range (start_mm,end_mm):\n",
    "        if(mm==2):\n",
    "            day_l = 28\n",
    "        else :\n",
    "            day_l = 30\n",
    "        \n",
    "        ##for dd in range(1:day_l+1):\n",
    "            \n",
    "    \n",
    "        s_date = str(yy) + '-' + str(mm) + '-1'\n",
    "        e_date = str(yy) + '-' + str(mm) + '-' + str(day_l)\n",
    "\n",
    "        dataset = data_band.filterDate(s_date, e_date).mean()\n",
    "\n",
    "        geom = gpd.read_file(path)\n",
    "\n",
    "        js = json.loads(geom.to_json())\n",
    "        shpz = ee.Geometry(ee.FeatureCollection(js).geometry())\n",
    "\n",
    "        image = dataset.clip(shpz)\n",
    "        \n",
    "        veca = 'vec_'+str(mm)+\"_\"+str(yy)\n",
    "        print(veca)\n",
    "        \n",
    "        task_config = {\n",
    "          'image': image,\n",
    "          'scale' : 250,\n",
    "          'description' : veca,\n",
    "          'fileNamePrefix': veca,\n",
    "          'folder' : folder,\n",
    "          'region': shpz,\n",
    "          }\n",
    "        print(\"Exporting\")\n",
    "        task=ee.batch.Export.image.toDrive(**task_config)\n",
    "        task.start()"
   ]
  },
  {
   "cell_type": "code",
   "execution_count": null,
   "id": "8930afea",
   "metadata": {},
   "outputs": [],
   "source": []
  }
 ],
 "metadata": {
  "kernelspec": {
   "display_name": "Python 3 (ipykernel)",
   "language": "python",
   "name": "python3"
  },
  "language_info": {
   "codemirror_mode": {
    "name": "ipython",
    "version": 3
   },
   "file_extension": ".py",
   "mimetype": "text/x-python",
   "name": "python",
   "nbconvert_exporter": "python",
   "pygments_lexer": "ipython3",
   "version": "3.11.3"
  }
 },
 "nbformat": 4,
 "nbformat_minor": 5
}
