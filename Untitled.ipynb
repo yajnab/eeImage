{
 "cells": [
  {
   "cell_type": "code",
   "execution_count": 1,
   "id": "7d52f05e",
   "metadata": {},
   "outputs": [],
   "source": [
    "import ee\n",
    "import geopandas as gpd\n",
    "import pandas as pd\n",
    "import pandas as pd\n",
    "import json\n",
    "import configparser\n",
    "import time"
   ]
  },
  {
   "cell_type": "code",
   "execution_count": 2,
   "id": "d3431d2d",
   "metadata": {},
   "outputs": [
    {
     "data": {
      "text/html": [
       "<p>To authorize access needed by Earth Engine, open the following\n",
       "        URL in a web browser and follow the instructions:</p>\n",
       "        <p><a href=https://code.earthengine.google.com/client-auth?scopes=https%3A//www.googleapis.com/auth/earthengine%20https%3A//www.googleapis.com/auth/devstorage.full_control&request_id=89Ta6CDTuFL4sZt3I1cMuyPK07CHqbT4n4AKkV69RR8&tc=s9kFHup5W9re1Ym73ycB5vYDEM99gCtbEEYjy7Iw4iA&cc=2XUp8FitdJXOXPerORnLdtI4ByMKAMhz0EmacDiw5fo>https://code.earthengine.google.com/client-auth?scopes=https%3A//www.googleapis.com/auth/earthengine%20https%3A//www.googleapis.com/auth/devstorage.full_control&request_id=89Ta6CDTuFL4sZt3I1cMuyPK07CHqbT4n4AKkV69RR8&tc=s9kFHup5W9re1Ym73ycB5vYDEM99gCtbEEYjy7Iw4iA&cc=2XUp8FitdJXOXPerORnLdtI4ByMKAMhz0EmacDiw5fo</a></p>\n",
       "        <p>The authorization workflow will generate a code, which you should paste in the box below.</p>\n",
       "        "
      ],
      "text/plain": [
       "<IPython.core.display.HTML object>"
      ]
     },
     "metadata": {},
     "output_type": "display_data"
    },
    {
     "name": "stdout",
     "output_type": "stream",
     "text": [
      "Enter verification code: 4/1AZEOvhUpk7IrUVyiZSOA-K0eef_Q2YEzU2Ear38Z0kP9P1rQML1GRAAE1Cw\n",
      "\n",
      "Successfully saved authorization token.\n"
     ]
    }
   ],
   "source": [
    "ee.Authenticate()\n",
    "ee.Initialize()"
   ]
  },
  {
   "cell_type": "code",
   "execution_count": null,
   "id": "0ec152b8",
   "metadata": {},
   "outputs": [],
   "source": [
    "config = configparser.ConfigParser()\n",
    "config.read(r\"./config.ini\")\n",
    "start_yy = int(config.get(\"myvars\", \"start_yy\"))\n",
    "end_yy = int(config.get(\"myvars\", \"end_yy\"))+1\n",
    "start_mm = int(config.get(\"myvars\", \"start_mm\"))\n",
    "end_mm = int(config.get(\"myvars\", \"end_mm\"))+1\n",
    "\n",
    "ee_collection = config.get(\"myvars\", \"ee_col\")\n",
    "path = config.get(\"myvars\", \"path\")\n",
    "band_ee = config.get(\"myvars\", \"band_ee\")\n",
    "\n",
    "folder = config.get(\"myvars\", \"folder\")"
   ]
  }
 ],
 "metadata": {
  "kernelspec": {
   "display_name": "Python 3 (ipykernel)",
   "language": "python",
   "name": "python3"
  },
  "language_info": {
   "codemirror_mode": {
    "name": "ipython",
    "version": 3
   },
   "file_extension": ".py",
   "mimetype": "text/x-python",
   "name": "python",
   "nbconvert_exporter": "python",
   "pygments_lexer": "ipython3",
   "version": "3.11.3"
  }
 },
 "nbformat": 4,
 "nbformat_minor": 5
}
