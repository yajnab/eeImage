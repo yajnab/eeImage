{
 "cells": [
  {
   "cell_type": "code",
   "execution_count": null,
   "id": "3254d2f8",
   "metadata": {},
   "outputs": [],
   "source": [
    "import ee\n",
    "import geopandas as gpd\n",
    "import pandas as pd\n",
    "import pandas as pd\n",
    "import json\n",
    "import configparser\n",
    "import time"
   ]
  },
  {
   "cell_type": "code",
   "execution_count": null,
   "id": "b9277e0f",
   "metadata": {},
   "outputs": [],
   "source": [
    "ee.Authenticate()\n",
    "ee.Initialize()"
   ]
  },
  {
   "cell_type": "code",
   "execution_count": null,
   "id": "6c68939e",
   "metadata": {},
   "outputs": [],
   "source": [
    "config = configparser.ConfigParser()\n",
    "config.read(r\"./config.ini\")\n",
    "start_yy = int(config.get(\"myvars\", \"start_yy\"))\n",
    "end_yy = int(config.get(\"myvars\", \"end_yy\"))+1\n",
    "start_mm = int(config.get(\"myvars\", \"start_mm\"))\n",
    "end_mm = int(config.get(\"myvars\", \"end_mm\"))+1\n",
    "\n",
    "ee_collection = config.get(\"myvars\", \"ee_col\")\n",
    "path = config.get(\"myvars\", \"path\")\n",
    "band_ee = config.get(\"myvars\", \"band_ee\")\n",
    "\n",
    "folder = config.get(\"myvars\", \"folder\")"
   ]
  },
  {
   "cell_type": "code",
   "execution_count": null,
   "id": "56b75e5d",
   "metadata": {},
   "outputs": [],
   "source": [
    "data = ee.ImageCollection(ee_collection);\n",
    "\n",
    "for yy in range(start_yy,end_yy):\n",
    "    yy_count = 1\n",
    "    \n",
    "    for mm in range (start_mm,end_mm):\n",
    "        if(mm==2):\n",
    "            day_l = 28\n",
    "        else :\n",
    "            day_l = 30\n",
    "        \n",
    "        ##for dd in range(1:day_l+1):\n",
    "            \n",
    "    \n",
    "        s_date = str(yy) + '-' + str(mm) + '-1'\n",
    "        e_date = str(yy) + '-' + str(mm) + '-' + str(day_l)\n",
    "\n",
    "        dataset = data.filterDate(s_date, e_date).mean()\n",
    "        \n",
    "        nir = image.select('B5');\n",
    "        red = image.select('B4');\n",
    "        l8_ndvi = (nir.subtract(red)).divide(nir.add(red))\n",
    "\n",
    "        geom = gpd.read_file(path)\n",
    "\n",
    "        js = json.loads(geom.to_json())\n",
    "        shpz = ee.Geometry(ee.FeatureCollection(js).geometry())\n",
    "\n",
    "        image = l8_ndvi.clip(shpz)\n",
    "        \n",
    "        veca = 'ndvi_'+str(mm)+\"_\"+str(yy)\n",
    "        print(veca)\n",
    "        \n",
    "        task_config = {\n",
    "          'image': image,\n",
    "          'scale' : 30,\n",
    "          'description' : veca,\n",
    "          'fileNamePrefix': veca,\n",
    "          'folder' : folder,\n",
    "          'region': shpz,\n",
    "          }\n",
    "        print(\"Exporting\")\n",
    "        task=ee.batch.Export.image.toDrive(**task_config)\n",
    "        task.start()"
   ]
  },
  {
   "cell_type": "code",
   "execution_count": null,
   "id": "180069b0",
   "metadata": {},
   "outputs": [],
   "source": []
  }
 ],
 "metadata": {
  "kernelspec": {
   "display_name": "Python 3 (ipykernel)",
   "language": "python",
   "name": "python3"
  },
  "language_info": {
   "codemirror_mode": {
    "name": "ipython",
    "version": 3
   },
   "file_extension": ".py",
   "mimetype": "text/x-python",
   "name": "python",
   "nbconvert_exporter": "python",
   "pygments_lexer": "ipython3",
   "version": "3.11.3"
  }
 },
 "nbformat": 4,
 "nbformat_minor": 5
}
